{
  "nbformat": 4,
  "nbformat_minor": 0,
  "metadata": {
    "colab": {
      "provenance": []
    },
    "kernelspec": {
      "name": "python3",
      "display_name": "Python 3"
    },
    "language_info": {
      "name": "python"
    }
  },
  "cells": [
    {
      "cell_type": "code",
      "source": [
        "def nested_loops_example(n):\n",
        "    count = 0\n",
        "    for i in range(n):          # Outer loop runs n times\n",
        "        for j in range(n):      # Middle loop runs n times for each iteration of the outer loop\n",
        "            for k in range(n):  # Inner loop runs n times for each iteration of the middle loop\n",
        "                count += 1      # Constant operation\n",
        "    print(count)\n",
        "    # return count\n",
        "\n",
        "n = 10\n",
        "nested_loops_example(n)\n",
        "\n",
        "print(\"Explanation:\")\n",
        "print(\"1. Outer Loop: Runs n times.\")\n",
        "print(\"2. Middle Loop: Runs n times for each iteration of the outer loop.\")\n",
        "print(\"3. Inner Loop: Runs n times for each iteration of the middle loop.\")\n",
        "print(\"The total number of iterations is:\")\n",
        "print(\"n * n * n = n³\")\n",
        "print(\"Thus, the time complexity is O(n³).\")\n"
      ],
      "metadata": {
        "colab": {
          "base_uri": "https://localhost:8080/"
        },
        "id": "4hppOCAXPvTH",
        "outputId": "2a069c62-83e1-4cf1-9524-1ea107204ac7"
      },
      "execution_count": 22,
      "outputs": [
        {
          "output_type": "stream",
          "name": "stdout",
          "text": [
            "1000\n",
            "Explanation:\n",
            "1. Outer Loop: Runs n times.\n",
            "2. Middle Loop: Runs n times for each iteration of the outer loop.\n",
            "3. Inner Loop: Runs n times for each iteration of the middle loop.\n",
            "The total number of iterations is:\n",
            "n * n * n = n³\n",
            "Thus, the time complexity is O(n³).\n"
          ]
        }
      ]
    }
  ]
}
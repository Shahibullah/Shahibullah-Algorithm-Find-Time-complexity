{
  "nbformat": 4,
  "nbformat_minor": 0,
  "metadata": {
    "colab": {
      "provenance": []
    },
    "kernelspec": {
      "name": "python3",
      "display_name": "Python 3"
    },
    "language_info": {
      "name": "python"
    }
  },
  "cells": [
    {
      "cell_type": "code",
      "execution_count": 7,
      "metadata": {
        "colab": {
          "base_uri": "https://localhost:8080/"
        },
        "id": "ARePzDKVUzQx",
        "outputId": "3a16bcd9-42f3-46b7-e8a5-195ef3d9ec4a"
      },
      "outputs": [
        {
          "output_type": "stream",
          "name": "stdout",
          "text": [
            "2 is an Even\n",
            "Here the Time complexity is Big O(1) \n"
          ]
        }
      ],
      "source": [
        "number = 2              #step 1\n",
        "if number % 2 == 0:     #step 2\n",
        "  print(number,\"is an Even\")         #step 3\n",
        "if number == 0 :        #step 4\n",
        "  print(number,\"is anZero\")         #step 5\n",
        "if number % 2 != 0 :    #step 6\n",
        "  print(number,\"is anOdd\")          #step 7\n",
        "\"\"\"Here one step is one oparation .So that,the time complexity will be constant\"\"\"\n",
        "print(\"Here the Time complexity is Big O(1) \")"
      ]
    }
  ]
}

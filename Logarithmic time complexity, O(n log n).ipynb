{
  "nbformat": 4,
  "nbformat_minor": 0,
  "metadata": {
    "colab": {
      "provenance": []
    },
    "kernelspec": {
      "name": "python3",
      "display_name": "Python 3"
    },
    "language_info": {
      "name": "python"
    }
  },
  "cells": [
    {
      "cell_type": "markdown",
      "source": [
        "#Time Complexity O(n(log n))\n",
        "• Divide: Splitting the array takes O(log n) because we repeatedly divide it in half.\n",
        "\n",
        "• Merge: Combining the arrays takes O(n) for each level.\n",
        "\n",
        "• Total: O(n log n).\n",
        "\n",
        "\n"
      ],
      "metadata": {
        "id": "TkxqflHUQdpg"
      }
    },
    {
      "cell_type": "code",
      "source": [
        "def merge_sort(arr):\n",
        "    if len(arr) > 1:\n",
        "        # Step 1: Find the middle of the array\n",
        "        mid = len(arr) // 2\n",
        "\n",
        "        # Step 2: Split the array into left and right halves\n",
        "        left_half = arr[:mid]\n",
        "        right_half = arr[mid:]\n",
        "\n",
        "        # Step 3: Recursively sort both halves\n",
        "        merge_sort(left_half)\n",
        "        merge_sort(right_half)\n",
        "\n",
        "        # Step 4: Merge the sorted halves\n",
        "        i = j = k = 0\n",
        "\n",
        "        # Merge while both halves have elements\n",
        "        while i < len(left_half) and j < len(right_half):\n",
        "            if left_half[i] < right_half[j]:\n",
        "                arr[k] = left_half[i]\n",
        "                i += 1\n",
        "            else:\n",
        "                arr[k] = right_half[j]\n",
        "                j += 1\n",
        "            k += 1\n",
        "\n",
        "        # Copy remaining elements of the left half, if any\n",
        "        while i < len(left_half):\n",
        "            arr[k] = left_half[i]\n",
        "            i += 1\n",
        "            k += 1\n",
        "\n",
        "        # Copy remaining elements of the right half, if any\n",
        "        while j < len(right_half):\n",
        "            arr[k] = right_half[j]\n",
        "            j += 1\n",
        "            k += 1\n",
        "arr = [38, 27, 43, 3, 9, 82, 10]\n",
        "merge_sort(arr)\n",
        "print(\"Sorted Array:\", arr)\n"
      ],
      "metadata": {
        "colab": {
          "base_uri": "https://localhost:8080/"
        },
        "id": "C7HC8NzVPlKM",
        "outputId": "dcc9abf9-5d32-4937-e96f-01df8dabee61"
      },
      "execution_count": 1,
      "outputs": [
        {
          "output_type": "stream",
          "name": "stdout",
          "text": [
            "Sorted Array: [3, 9, 10, 27, 38, 43, 82]\n"
          ]
        }
      ]
    }
  ]
}
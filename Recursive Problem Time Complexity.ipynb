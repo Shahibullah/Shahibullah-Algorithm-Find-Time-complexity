{
  "nbformat": 4,
  "nbformat_minor": 0,
  "metadata": {
    "colab": {
      "provenance": []
    },
    "kernelspec": {
      "name": "python3",
      "display_name": "Python 3"
    },
    "language_info": {
      "name": "python"
    }
  },
  "cells": [
    {
      "cell_type": "markdown",
      "source": [
        "#EXAMPLE 01 (factorial)\n",
        "\n",
        "#Recurrence Relation:\n",
        "\n",
        "#T(n) = T(n − 1) + O(1)\n",
        "\n",
        "#The function calls itself with n − 1, reducing the input size by 1 in each step.\n",
        "\n",
        "#The O(1) term represents the constant work (multiplication).\n",
        "\n",
        "\n",
        "#Complexity:\n",
        "• Solving the recurrence:\n",
        "T(n) = T(n − 1) + O(1) = T(n − 2) + 2 · O(1) =. . . = T(1) + n · O(1) = O(n)\n",
        "Thus, the time complexity is O(n).\n"
      ],
      "metadata": {
        "id": "8nG5ZmtdApYh"
      }
    },
    {
      "cell_type": "code",
      "source": [
        "def factorial(n):\n",
        "    if n == 0 or n == 1:  # Base case\n",
        "        return 1\n",
        "    return n * factorial(n - 1)  # Recursive case\n",
        "factorial(5)"
      ],
      "metadata": {
        "colab": {
          "base_uri": "https://localhost:8080/"
        },
        "id": "4hppOCAXPvTH",
        "outputId": "1a2934a8-2774-4606-ee08-b03d4ac7d31b"
      },
      "execution_count": 37,
      "outputs": [
        {
          "output_type": "execute_result",
          "data": {
            "text/plain": [
              "120"
            ]
          },
          "metadata": {},
          "execution_count": 37
        }
      ]
    },
    {
      "cell_type": "markdown",
      "source": [
        "#EXAMPLE 02 (binary_search_recursive)\n",
        "\n",
        "#Recurrence Relation:\n",
        "\n",
        "#T(n) = T(n/2) + O(1)\n",
        "\n",
        "• Each recursive call divides the input size by 2 (n/2).\n",
        "\n",
        "• The O(1) term represents the constant work of computing the midpoint and comparison.\n",
        "\n",
        "#Complexity:\n",
        "\n",
        "•Solving the recurrence using the Master Theorem:\n",
        "\n",
        "#a = 1, b = 2, f(n) = O(1)\n",
        "Since log¿(a) = 0 and ƒ(n) = O(1) = O(n¹º(ª)), the time complexity is:\n",
        "T(n) = O(logn)"
      ],
      "metadata": {
        "id": "yV-NGk6JCJgX"
      }
    },
    {
      "cell_type": "code",
      "source": [
        "def binary_search_recursive(arr, left, right, target):\n",
        "    if left > right:  # Base case\n",
        "        return -1\n",
        "    mid = (left + right) // 2\n",
        "    if arr[mid] == target:\n",
        "        return mid\n",
        "    elif arr[mid] < target:\n",
        "        return binary_search_recursive(arr, mid + 1, right, target)\n",
        "    else:\n",
        "        return binary_search_recursive(arr, left, mid - 1, target)\n",
        "# Example Usage\n",
        "arr = [1, 3, 5, 7, 9, 11]  # Sorted array\n",
        "target = 7\n",
        "left = 0\n",
        "right = len(arr) - 1\n",
        "\n",
        "result = binary_search_recursive(arr, left, right, target)\n",
        "if result != -1:\n",
        "    print(f\"Target {target} found at index {result}.\")\n",
        "else:\n",
        "    print(f\"Target {target} not found in the array.\")\n",
        "binary_search_recursive(arr,left,right,target)"
      ],
      "metadata": {
        "colab": {
          "base_uri": "https://localhost:8080/"
        },
        "id": "uHxv70OOBoA2",
        "outputId": "3c8276d4-e9c4-455b-ad7d-0032792a2747"
      },
      "execution_count": 38,
      "outputs": [
        {
          "output_type": "stream",
          "name": "stdout",
          "text": [
            "Target 7 found at index 3.\n"
          ]
        },
        {
          "output_type": "execute_result",
          "data": {
            "text/plain": [
              "3"
            ]
          },
          "metadata": {},
          "execution_count": 38
        }
      ]
    },
    {
      "cell_type": "markdown",
      "source": [
        "#EXAMPLE 03 (Merge Sort)\n",
        "\n",
        "#Recurrence Relation:\n",
        "\n",
        "#T(n) = 2T(n/2) + O(n)\n",
        "• The problem is split into two halves (2T(n/2)).\n",
        "\n",
        "• The O(n) term represents the work done to merge the two halves.\n",
        "#Complexity:\n",
        "Using the Master Theorem:\n",
        "a = 2, b = 2, f(n) = O(n)\n",
        "Since log, (a) = 1 and ƒ(n) = O(n) = O(n¹º(a)), the time complexity is:\n",
        "#T(n) = O(nlogn)"
      ],
      "metadata": {
        "id": "D8RRj3x-ENw0"
      }
    },
    {
      "cell_type": "markdown",
      "source": [],
      "metadata": {
        "id": "yO0CDvqjAmKP"
      }
    },
    {
      "cell_type": "code",
      "source": [
        "def merge_sort(arr):\n",
        "    if len(arr) <= 1:  # Base case: A single element is already sorted\n",
        "        return arr\n",
        "    mid = len(arr) // 2\n",
        "    # Recursively split the array into two halves\n",
        "    left = merge_sort(arr[:mid])\n",
        "    right = merge_sort(arr[mid:])\n",
        "    # Merge the sorted halves\n",
        "    return merge(left, right)\n",
        "\n",
        "def merge(left, right):\n",
        "    merged = []\n",
        "    i = j = 0\n",
        "    # Compare elements from both halves and append the smallest to the merged list\n",
        "    while i < len(left) and j < len(right):\n",
        "        if left[i] < right[j]:\n",
        "            merged.append(left[i])\n",
        "            i += 1\n",
        "        else:\n",
        "            merged.append(right[j])\n",
        "            j += 1\n",
        "    # Append any remaining elements from the left or right half\n",
        "    merged.extend(left[i:])\n",
        "    merged.extend(right[j:])\n",
        "    return merged\n",
        "\n",
        "# Example Usage\n",
        "arr = [38, 27, 43, 3, 9, 82, 10]\n",
        "sorted_arr = merge_sort(arr)\n",
        "print(f\"Sorted Array: {sorted_arr}\")\n"
      ],
      "metadata": {
        "colab": {
          "base_uri": "https://localhost:8080/"
        },
        "id": "7XhrzKffErkn",
        "outputId": "d7500aa4-3d6e-4edb-b296-a9687f74252e"
      },
      "execution_count": 41,
      "outputs": [
        {
          "output_type": "stream",
          "name": "stdout",
          "text": [
            "Sorted Array: [3, 9, 10, 27, 38, 43, 82]\n"
          ]
        }
      ]
    }
  ]
}
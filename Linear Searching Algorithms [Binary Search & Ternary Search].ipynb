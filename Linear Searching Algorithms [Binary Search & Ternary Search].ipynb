{
  "nbformat": 4,
  "nbformat_minor": 0,
  "metadata": {
    "colab": {
      "provenance": []
    },
    "kernelspec": {
      "name": "python3",
      "display_name": "Python 3"
    },
    "language_info": {
      "name": "python"
    }
  },
  "cells": [
    {
      "cell_type": "markdown",
      "source": [
        "#Binary_Search"
      ],
      "metadata": {
        "id": "CJExhDnBoISw"
      }
    },
    {
      "cell_type": "markdown",
      "source": [
        "#Time Complexity:\n",
        "#The time complexity of binary search is determined by the number of divisions required to narrow down\n",
        "#the search space to one element.\n",
        "\n",
        "1. Initial Array Size:  n  \n",
        "\n",
        "2. Number of Divisions:\n",
        "* At each step, the search space is halved: n, 22, 2, ..., 1.\n",
        "*This halving continues until only one element remains.\n",
        "\n",
        "3. Number of Steps: The number of divisions is equal to the base-2 logarithm of n, i.e., log₂(n).\n",
        "Thus, the time complexity is:\n",
        "\n",
        "#*O(log(n)) or simply O(log n).*#"
      ],
      "metadata": {
        "id": "cZlZpMIkuFSx"
      }
    },
    {
      "cell_type": "code",
      "source": [
        "def binary_search(array,start,end,find):\n",
        "  mid = (end + start) // 2\n",
        "  if start > end :\n",
        "    return \"Not found\"\n",
        "  if array[mid] == find:\n",
        "    print(f\"we found {array[mid]} in the Index of \",mid)\n",
        "  elif array[mid] < find :\n",
        "    start = mid + 1\n",
        "    return binary_search(array,start,end,find)\n",
        "  elif array[mid] > find :\n",
        "    end = mid - 1\n",
        "    return binary_search(array,start,end,find)\n",
        "\n",
        "\n",
        "array =  [3, 9, 10, 27, 38, 43, 82]\n",
        "start = 0\n",
        "end   = len(array)-1\n",
        "find  = 82\n",
        "binary_search(array,start,end,find)"
      ],
      "metadata": {
        "colab": {
          "base_uri": "https://localhost:8080/"
        },
        "id": "qa7S2YLOgDfH",
        "outputId": "84161c5f-ec4d-4da4-bbdd-ee17463b73db"
      },
      "execution_count": null,
      "outputs": [
        {
          "output_type": "stream",
          "name": "stdout",
          "text": [
            "we found 82 in the Index of  6\n"
          ]
        }
      ]
    },
    {
      "cell_type": "markdown",
      "source": [
        "#**Ternary_Search**"
      ],
      "metadata": {
        "id": "u82_F5GVoM0V"
      }
    },
    {
      "cell_type": "markdown",
      "source": [
        "#*Time Complexity of Ternary Search :*#\n",
        "\n",
        "#1. Ternary Search works by dividing the search space into three parts and eliminating two-thirds of the search space in each iteration.\n",
        "\n",
        "#2. At each step, the algorithm compares the target value with two midpoints and determines which third of the search space to continue searching in.\n",
        "\n",
        "#3. Since the search space is reduced by a factor of 3 in each step, the number of iterations required to find the target is proportional to log₃ N."
      ],
      "metadata": {
        "id": "zSBJKfwAvTvI"
      }
    },
    {
      "cell_type": "code",
      "source": [
        "def Ternary_Search(array,start,end,find):\n",
        "  mid1 = start + (end - start) // 3\n",
        "  mid2 = end - (end - start) // 3\n",
        "  if start > end:\n",
        "     return f\"{find} is not in the array\"\n",
        "  if array[mid1] == find :\n",
        "      return f\"We found {find} in the index of {mid1}\"\n",
        "  if array[mid2] == find :\n",
        "      return f\"We found {find} in the index of {mid2}\"\n",
        "  if array[mid1] > find :\n",
        "      end   = mid1 - 1\n",
        "      return Ternary_Search(array,start,end,find)\n",
        "  if array[mid1] < find  and array[mid2] > find:\n",
        "      start = mid1 +1\n",
        "      end   = mid2 -1\n",
        "      return Ternary_Search(array,start,end,find)\n",
        "  if array[mid2] < find :\n",
        "      start = mid2 + 1\n",
        "      return Ternary_Search(array,start,end,find)\n",
        "\n",
        "\n",
        "array = [7,12,19,24,31,48,51,63,67,73,81,92]\n",
        "start = 0\n",
        "end   = len(array)-1\n",
        "find = 92\n",
        "\n",
        "Ternary_Search(array,start,end,find)"
      ],
      "metadata": {
        "colab": {
          "base_uri": "https://localhost:8080/",
          "height": 36
        },
        "id": "nzKuYo7Hn8oF",
        "outputId": "01f45b51-2a19-4fd9-8dcb-da1d085d079f"
      },
      "execution_count": null,
      "outputs": [
        {
          "output_type": "execute_result",
          "data": {
            "text/plain": [
              "'We found 92 in the index of 11'"
            ],
            "application/vnd.google.colaboratory.intrinsic+json": {
              "type": "string"
            }
          },
          "metadata": {},
          "execution_count": 8
        }
      ]
    }
  ]
}
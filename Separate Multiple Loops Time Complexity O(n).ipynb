{
  "nbformat": 4,
  "nbformat_minor": 0,
  "metadata": {
    "colab": {
      "provenance": []
    },
    "kernelspec": {
      "name": "python3",
      "display_name": "Python 3"
    },
    "language_info": {
      "name": "python"
    }
  },
  "cells": [
    {
      "cell_type": "code",
      "source": [
        "def separate_loops_example(arr):\n",
        "    # First loop: calculating the sum of elements\n",
        "    total_sum = 0\n",
        "    for num in arr:\n",
        "        total_sum += num\n",
        "\n",
        "    # Second loop: finding the maximum element\n",
        "    max_element = arr[0]\n",
        "    for num in arr:\n",
        "        if num > max_element:\n",
        "            max_element = num\n",
        "\n",
        "    return f'Total Sum :{total_sum} & The max number :{max_element}'\n",
        "arr = [3, 7, 2, 9, 4, 8]\n",
        "separate_loops_example(arr)\n",
        "print('First Loop: Iterates through the array to calculate the sum ( 𝑂 ( 𝑛 ) O(n)).')\n",
        "print('Second Loop: Iterates through the array to find the maximum element ( 𝑂 ( 𝑛 ) O(n)).')\n",
        "print(\"Even though there are two separate loops, they run sequentially, not nested.\\nThe total time complexity is 𝑂 ( 𝑛 ) + 𝑂 ( 𝑛 ) = 𝑂 ( 2 𝑛 ) O(n)+O(n)=O(2n), \\nwhich simplifies to 𝑂 ( 𝑛 ) O(n). \\nThis is a common pattern in algorithms where different operations are performed on the same dataset in separate passes.\")"
      ],
      "metadata": {
        "colab": {
          "base_uri": "https://localhost:8080/"
        },
        "id": "4hppOCAXPvTH",
        "outputId": "8105dda4-6837-43c4-f690-468f98ef394f"
      },
      "execution_count": 18,
      "outputs": [
        {
          "output_type": "stream",
          "name": "stdout",
          "text": [
            "First Loop: Iterates through the array to calculate the sum ( 𝑂 ( 𝑛 ) O(n)).\n",
            "Second Loop: Iterates through the array to find the maximum element ( 𝑂 ( 𝑛 ) O(n)).\n",
            "Even though there are two separate loops, they run sequentially, not nested.\n",
            "The total time complexity is 𝑂 ( 𝑛 ) + 𝑂 ( 𝑛 ) = 𝑂 ( 2 𝑛 ) O(n)+O(n)=O(2n), \n",
            "which simplifies to 𝑂 ( 𝑛 ) O(n). \n",
            "This is a common pattern in algorithms where different operations are performed on the same dataset in separate passes.\n"
          ]
        }
      ]
    }
  ]
}
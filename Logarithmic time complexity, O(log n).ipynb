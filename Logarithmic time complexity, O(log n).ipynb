{
  "nbformat": 4,
  "nbformat_minor": 0,
  "metadata": {
    "colab": {
      "provenance": []
    },
    "kernelspec": {
      "name": "python3",
      "display_name": "Python 3"
    },
    "language_info": {
      "name": "python"
    }
  },
  "cells": [
    {
      "cell_type": "code",
      "source": [
        "print(\"Explanation:\")\n",
        "print(\"1. Initial Setup: The array is sorted, and you search for a target value.\")\n",
        "print(\"2. Each Step: The range to search is halved by updating either the left or right pointer.\")\n",
        "print(\"3. Reduction: After at most log₂(n) iterations, the search range becomes empty (or the target is found).\")\n",
        "print(\"The key here is that halving the search space reduces the number of iterations required, leading to a logarithmic time complexity.\\n\\n\")\n",
        "\n",
        "\n",
        "def binary_search(arr, target):\n",
        "    left = 0\n",
        "    right = len(arr) - 1\n",
        "\n",
        "    while left <= right:\n",
        "        mid = (left + right) // 2  # Find the middle element\n",
        "\n",
        "        if arr[mid] == target:\n",
        "            return f\"index: {mid}\" # Target found\n",
        "        elif arr[mid] < target:\n",
        "            left = mid + 1  # Discard the left half\n",
        "        else:\n",
        "            right = mid - 1  # Discard the right half\n",
        "\n",
        "    return -1  # Target not found\n",
        "arr = [1,2,3,4,5]\n",
        "binary_search(arr,target=5)"
      ],
      "metadata": {
        "colab": {
          "base_uri": "https://localhost:8080/",
          "height": 156
        },
        "id": "4hppOCAXPvTH",
        "outputId": "6c8f3565-ac99-4336-8cfb-7cbff248696e"
      },
      "execution_count": 36,
      "outputs": [
        {
          "output_type": "stream",
          "name": "stdout",
          "text": [
            "Explanation:\n",
            "1. Initial Setup: The array is sorted, and you search for a target value.\n",
            "2. Each Step: The range to search is halved by updating either the left or right pointer.\n",
            "3. Reduction: After at most log₂(n) iterations, the search range becomes empty (or the target is found).\n",
            "The key here is that halving the search space reduces the number of iterations required, leading to a logarithmic time complexity.\n",
            "\n",
            "\n"
          ]
        },
        {
          "output_type": "execute_result",
          "data": {
            "text/plain": [
              "'index: 4'"
            ],
            "application/vnd.google.colaboratory.intrinsic+json": {
              "type": "string"
            }
          },
          "metadata": {},
          "execution_count": 36
        }
      ]
    }
  ]
}
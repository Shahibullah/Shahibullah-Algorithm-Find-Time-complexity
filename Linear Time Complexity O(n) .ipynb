{
  "nbformat": 4,
  "nbformat_minor": 0,
  "metadata": {
    "colab": {
      "provenance": []
    },
    "kernelspec": {
      "name": "python3",
      "display_name": "Python 3"
    },
    "language_info": {
      "name": "python"
    }
  },
  "cells": [
    {
      "cell_type": "code",
      "source": [
        "def find_max(arr):\n",
        "    max_element = arr[0]  # Assume the first element is the maximum\n",
        "    for num in arr:       # Traverse the array\n",
        "        if num > max_element:  # Compare each element with the current max\n",
        "            max_element = num  # Update max if a larger number is found\n",
        "    return max_element\n",
        "arr = [3, 7, 2, 9, 4, 8]\n",
        "result = find_max(arr)\n",
        "print(f\"The maximum element is: {result}\")\n",
        "print(\"Here the Linear Time Complexity O(n)\")\n",
        "print(\"Why is this O(n)? \\nThe function processes each element exactly once in a single loop.\\nThus, the time complexity is linear:O(n).\\nBoth examples involve iterating through the array once, making them perfect examples of linear time complexity.\")\n"
      ],
      "metadata": {
        "colab": {
          "base_uri": "https://localhost:8080/"
        },
        "id": "4hppOCAXPvTH",
        "outputId": "236d2f6b-54a6-45a4-8c21-7c1d5172536b"
      },
      "execution_count": 17,
      "outputs": [
        {
          "output_type": "stream",
          "name": "stdout",
          "text": [
            "The maximum element is: 9\n",
            "Here the Linear Time Complexity O(n)\n",
            "Why is this O(n)? \n",
            "The function processes each element exactly once in a single loop.\n",
            "Thus, the time complexity is linear:O(n).\n",
            "Both examples involve iterating through the array once, making them perfect examples of linear time complexity.\n"
          ]
        }
      ]
    }
  ]
}

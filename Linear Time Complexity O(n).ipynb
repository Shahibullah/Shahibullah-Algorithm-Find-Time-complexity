{
  "nbformat": 4,
  "nbformat_minor": 0,
  "metadata": {
    "colab": {
      "provenance": []
    },
    "kernelspec": {
      "name": "python3",
      "display_name": "Python 3"
    },
    "language_info": {
      "name": "python"
    }
  },
  "cells": [
    {
      "cell_type": "code",
      "source": [
        "def find_max(arr):\n",
        "    max_element = arr[0]  # Assume the first element is the maximum\n",
        "    for num in arr:       # Traverse the array\n",
        "        if num > max_element:  # Compare each element with the current max\n",
        "            max_element = num  # Update max if a larger number is found\n",
        "    return max_element\n",
        "arr = [3, 7, 2, 9, 4, 8]\n",
        "result = find_max(arr)\n",
        "print(f\"The maximum element is: {result}\")\n",
        "print(\"Here the Linear Time Complexity O(n)\")"
      ],
      "metadata": {
        "colab": {
          "base_uri": "https://localhost:8080/"
        },
        "id": "4hppOCAXPvTH",
        "outputId": "438acd09-085a-4e57-e043-88343d2f58dc"
      },
      "execution_count": 10,
      "outputs": [
        {
          "output_type": "stream",
          "name": "stdout",
          "text": [
            "The maximum element is: 9\n",
            "Here the Linear Time Complexity O(n)\n"
          ]
        }
      ]
    }
  ]
}